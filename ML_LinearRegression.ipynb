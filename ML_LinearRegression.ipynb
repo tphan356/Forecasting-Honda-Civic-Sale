{
 "cells": [
  {
   "cell_type": "markdown",
   "id": "5e7e5c60-e887-4791-bce0-f61db1917e18",
   "metadata": {},
   "source": [
    "## Forecasting Honda Civic Sales"
   ]
  },
  {
   "cell_type": "code",
   "execution_count": 1,
   "id": "d72d16f6-3c29-405d-9d2c-a47d916b7e7b",
   "metadata": {},
   "outputs": [],
   "source": [
    "# Import packages\n",
    "import numpy as np\n",
    "import pandas as pd\n",
    "import seaborn as sns\n",
    "import matplotlib.pyplot as plt\n",
    "\n",
    "# Import the library that contains all the functions/modules related to the regression model\n",
    "import statsmodels.api as sm\n",
    "import statsmodels.formula.api as smf\n",
    "from sklearn.metrics import r2_score, mean_squared_error, mean_absolute_error\n",
    "\n",
    "%matplotlib inline"
   ]
  },
  {
   "cell_type": "code",
   "execution_count": 2,
   "id": "631553fa-6856-45a1-9773-e9d8c5d36417",
   "metadata": {},
   "outputs": [
    {
     "data": {
      "text/html": [
       "<div>\n",
       "<style scoped>\n",
       "    .dataframe tbody tr th:only-of-type {\n",
       "        vertical-align: middle;\n",
       "    }\n",
       "\n",
       "    .dataframe tbody tr th {\n",
       "        vertical-align: top;\n",
       "    }\n",
       "\n",
       "    .dataframe thead th {\n",
       "        text-align: right;\n",
       "    }\n",
       "</style>\n",
       "<table border=\"1\" class=\"dataframe\">\n",
       "  <thead>\n",
       "    <tr style=\"text-align: right;\">\n",
       "      <th></th>\n",
       "      <th>MonthNumeric</th>\n",
       "      <th>MonthFactor</th>\n",
       "      <th>Year</th>\n",
       "      <th>CivicSales</th>\n",
       "      <th>Unemployment</th>\n",
       "      <th>CivicQueries</th>\n",
       "      <th>CPIAll</th>\n",
       "      <th>CPIEnergy</th>\n",
       "      <th>MilesTraveled</th>\n",
       "    </tr>\n",
       "  </thead>\n",
       "  <tbody>\n",
       "    <tr>\n",
       "      <th>0</th>\n",
       "      <td>1</td>\n",
       "      <td>January</td>\n",
       "      <td>2014</td>\n",
       "      <td>21824</td>\n",
       "      <td>6.6</td>\n",
       "      <td>66</td>\n",
       "      <td>235.288</td>\n",
       "      <td>250.340</td>\n",
       "      <td>246531</td>\n",
       "    </tr>\n",
       "    <tr>\n",
       "      <th>1</th>\n",
       "      <td>2</td>\n",
       "      <td>February</td>\n",
       "      <td>2014</td>\n",
       "      <td>21575</td>\n",
       "      <td>6.7</td>\n",
       "      <td>69</td>\n",
       "      <td>235.547</td>\n",
       "      <td>249.925</td>\n",
       "      <td>249499</td>\n",
       "    </tr>\n",
       "    <tr>\n",
       "      <th>2</th>\n",
       "      <td>3</td>\n",
       "      <td>March</td>\n",
       "      <td>2014</td>\n",
       "      <td>27697</td>\n",
       "      <td>6.7</td>\n",
       "      <td>72</td>\n",
       "      <td>236.028</td>\n",
       "      <td>249.961</td>\n",
       "      <td>251120</td>\n",
       "    </tr>\n",
       "    <tr>\n",
       "      <th>3</th>\n",
       "      <td>4</td>\n",
       "      <td>April</td>\n",
       "      <td>2014</td>\n",
       "      <td>27611</td>\n",
       "      <td>6.2</td>\n",
       "      <td>69</td>\n",
       "      <td>236.468</td>\n",
       "      <td>249.864</td>\n",
       "      <td>251959</td>\n",
       "    </tr>\n",
       "    <tr>\n",
       "      <th>4</th>\n",
       "      <td>5</td>\n",
       "      <td>May</td>\n",
       "      <td>2014</td>\n",
       "      <td>36089</td>\n",
       "      <td>6.3</td>\n",
       "      <td>69</td>\n",
       "      <td>236.918</td>\n",
       "      <td>249.213</td>\n",
       "      <td>252289</td>\n",
       "    </tr>\n",
       "  </tbody>\n",
       "</table>\n",
       "</div>"
      ],
      "text/plain": [
       "   MonthNumeric MonthFactor  Year  CivicSales  Unemployment  CivicQueries  \\\n",
       "0             1     January  2014       21824           6.6            66   \n",
       "1             2    February  2014       21575           6.7            69   \n",
       "2             3       March  2014       27697           6.7            72   \n",
       "3             4       April  2014       27611           6.2            69   \n",
       "4             5         May  2014       36089           6.3            69   \n",
       "\n",
       "    CPIAll  CPIEnergy  MilesTraveled  \n",
       "0  235.288    250.340         246531  \n",
       "1  235.547    249.925         249499  \n",
       "2  236.028    249.961         251120  \n",
       "3  236.468    249.864         251959  \n",
       "4  236.918    249.213         252289  "
      ]
     },
     "execution_count": 2,
     "metadata": {},
     "output_type": "execute_result"
    }
   ],
   "source": [
    "# Define data frame\n",
    "data = pd.read_csv(\"Civic-142A-Fall25.csv\")\n",
    "data.head()"
   ]
  },
  {
   "cell_type": "code",
   "execution_count": 3,
   "id": "f85cbd62-f109-4c13-90f5-4ceeb9330481",
   "metadata": {},
   "outputs": [],
   "source": [
    "# Split data into tranning set and testing set\n",
    "data_train = data[data['Year'] <= 2019]\n",
    "data_test = data[data['Year'] >= 2020]\n",
    "\n",
    "# Train model base on log scale\n",
    "data_train = data_train.copy()"
   ]
  },
  {
   "cell_type": "code",
   "execution_count": 4,
   "id": "077a7240-df58-4e04-abde-fbf5854650fd",
   "metadata": {},
   "outputs": [
    {
     "data": {
      "text/html": [
       "<div>\n",
       "<style scoped>\n",
       "    .dataframe tbody tr th:only-of-type {\n",
       "        vertical-align: middle;\n",
       "    }\n",
       "\n",
       "    .dataframe tbody tr th {\n",
       "        vertical-align: top;\n",
       "    }\n",
       "\n",
       "    .dataframe thead th {\n",
       "        text-align: right;\n",
       "    }\n",
       "</style>\n",
       "<table border=\"1\" class=\"dataframe\">\n",
       "  <thead>\n",
       "    <tr style=\"text-align: right;\">\n",
       "      <th></th>\n",
       "      <th>const</th>\n",
       "      <th>Unemployment</th>\n",
       "      <th>CivicQueries</th>\n",
       "      <th>CPIEnergy</th>\n",
       "      <th>CPIAll</th>\n",
       "      <th>MilesTraveled</th>\n",
       "    </tr>\n",
       "  </thead>\n",
       "  <tbody>\n",
       "    <tr>\n",
       "      <th>0</th>\n",
       "      <td>1.0</td>\n",
       "      <td>6.6</td>\n",
       "      <td>66</td>\n",
       "      <td>250.340</td>\n",
       "      <td>235.288</td>\n",
       "      <td>246531</td>\n",
       "    </tr>\n",
       "    <tr>\n",
       "      <th>1</th>\n",
       "      <td>1.0</td>\n",
       "      <td>6.7</td>\n",
       "      <td>69</td>\n",
       "      <td>249.925</td>\n",
       "      <td>235.547</td>\n",
       "      <td>249499</td>\n",
       "    </tr>\n",
       "    <tr>\n",
       "      <th>2</th>\n",
       "      <td>1.0</td>\n",
       "      <td>6.7</td>\n",
       "      <td>72</td>\n",
       "      <td>249.961</td>\n",
       "      <td>236.028</td>\n",
       "      <td>251120</td>\n",
       "    </tr>\n",
       "    <tr>\n",
       "      <th>3</th>\n",
       "      <td>1.0</td>\n",
       "      <td>6.2</td>\n",
       "      <td>69</td>\n",
       "      <td>249.864</td>\n",
       "      <td>236.468</td>\n",
       "      <td>251959</td>\n",
       "    </tr>\n",
       "    <tr>\n",
       "      <th>4</th>\n",
       "      <td>1.0</td>\n",
       "      <td>6.3</td>\n",
       "      <td>69</td>\n",
       "      <td>249.213</td>\n",
       "      <td>236.918</td>\n",
       "      <td>252289</td>\n",
       "    </tr>\n",
       "  </tbody>\n",
       "</table>\n",
       "</div>"
      ],
      "text/plain": [
       "   const  Unemployment  CivicQueries  CPIEnergy   CPIAll  MilesTraveled\n",
       "0    1.0           6.6            66    250.340  235.288         246531\n",
       "1    1.0           6.7            69    249.925  235.547         249499\n",
       "2    1.0           6.7            72    249.961  236.028         251120\n",
       "3    1.0           6.2            69    249.864  236.468         251959\n",
       "4    1.0           6.3            69    249.213  236.918         252289"
      ]
     },
     "execution_count": 4,
     "metadata": {},
     "output_type": "execute_result"
    }
   ],
   "source": [
    "# Choose the features to be used\n",
    "cols5 = ['Unemployment','CivicQueries','CPIEnergy','CPIAll','MilesTraveled']\n",
    "X_train = data_train[cols5]\n",
    "y_train = data_train[['CivicSales']]\n",
    "\n",
    "# We must add an intercept as the standard model doesn't automatically fit one\n",
    "X_train = sm.add_constant(X_train)\n",
    "X_train.head()"
   ]
  },
  {
   "cell_type": "markdown",
   "id": "de327d80-091e-45e4-be65-b4153e8eef09",
   "metadata": {},
   "source": [
    "#### Evaluating the model"
   ]
  },
  {
   "cell_type": "code",
   "execution_count": 5,
   "id": "2e57d2c7-4ec6-4ceb-89d5-0f8c2e5fdb70",
   "metadata": {},
   "outputs": [],
   "source": [
    "from statsmodels.stats.outliers_influence import variance_inflation_factor\n",
    "\n",
    "def VIF(df, columns):\n",
    "# The dataframe passed to VIF must include the intercept term. We add itthe same way we did before.\n",
    "    \n",
    "    values = sm.add_constant(df[columns]).values\n",
    "    num_columns = len(columns)+1\n",
    "    \n",
    "    vif = [variance_inflation_factor(values, i) for i in range(num_columns)]\n",
    "    \n",
    "    return pd.Series(vif[1:], index=columns)"
   ]
  },
  {
   "cell_type": "code",
   "execution_count": 6,
   "id": "66dbeefa-3223-4a48-864a-848bcae01fee",
   "metadata": {},
   "outputs": [],
   "source": [
    "# Compute out-of-sample R-squared using the test set\n",
    "def OSR2(model, df_train, df_test, dependent_var):\n",
    "    \n",
    "    y_test = df_test[dependent_var]\n",
    "    y_pred = model.predict(df_test)\n",
    "    \n",
    "    SSE = np.sum((y_test - y_pred)**2)\n",
    "    SST = np.sum((y_test - np.mean(df_train[dependent_var]))**2)\n",
    "    \n",
    "    return 1 - SSE/SST"
   ]
  },
  {
   "cell_type": "markdown",
   "id": "c1e25c05-be2d-489d-be4d-d778f7689d7c",
   "metadata": {},
   "source": [
    "### Training the model"
   ]
  },
  {
   "cell_type": "code",
   "execution_count": 7,
   "id": "84ec802c-cfbd-4ec3-b9ca-386e0e1a2dfd",
   "metadata": {},
   "outputs": [
    {
     "name": "stdout",
     "output_type": "stream",
     "text": [
      "                            OLS Regression Results                            \n",
      "==============================================================================\n",
      "Dep. Variable:             CivicSales   R-squared:                       0.429\n",
      "Model:                            OLS   Adj. R-squared:                  0.385\n",
      "Method:                 Least Squares   F-statistic:                     9.898\n",
      "Date:                Thu, 25 Sep 2025   Prob (F-statistic):           4.29e-07\n",
      "Time:                        20:42:38   Log-Likelihood:                -687.82\n",
      "No. Observations:                  72   AIC:                             1388.\n",
      "Df Residuals:                      66   BIC:                             1401.\n",
      "Df Model:                           5                                         \n",
      "Covariance Type:            nonrobust                                         \n",
      "=================================================================================\n",
      "                    coef    std err          t      P>|t|      [0.025      0.975]\n",
      "---------------------------------------------------------------------------------\n",
      "const          1.298e+04   7.37e+04      0.176      0.861   -1.34e+05     1.6e+05\n",
      "Unemployment    430.7853   2388.156      0.180      0.857   -4337.322    5198.893\n",
      "CivicQueries    365.8302     63.465      5.764      0.000     239.118     492.542\n",
      "CPIEnergy        71.8430     52.299      1.374      0.174     -32.575     176.261\n",
      "CPIAll         -486.3335    282.799     -1.720      0.090   -1050.960      78.293\n",
      "MilesTraveled     0.3369      0.204      1.649      0.104      -0.071       0.745\n",
      "==============================================================================\n",
      "Omnibus:                        2.303   Durbin-Watson:                   1.610\n",
      "Prob(Omnibus):                  0.316   Jarque-Bera (JB):                1.589\n",
      "Skew:                           0.134   Prob(JB):                        0.452\n",
      "Kurtosis:                       2.323   Cond. No.                     4.64e+07\n",
      "==============================================================================\n",
      "\n",
      "Notes:\n",
      "[1] Standard Errors assume that the covariance matrix of the errors is correctly specified.\n",
      "[2] The condition number is large, 4.64e+07. This might indicate that there are\n",
      "strong multicollinearity or other numerical problems.\n"
     ]
    },
    {
     "data": {
      "text/plain": [
       "Unemployment     24.600912\n",
       "CivicQueries      1.717734\n",
       "CPIEnergy         5.033046\n",
       "CPIAll           23.929349\n",
       "MilesTraveled    12.647068\n",
       "dtype: float64"
      ]
     },
     "execution_count": 7,
     "metadata": {},
     "output_type": "execute_result"
    }
   ],
   "source": [
    "# cols5 = ['Unemployment','CivicQueries','CPIEnergy','CPIAll','MilesTraveled']\n",
    "X_train = data_train[cols5]\n",
    "\n",
    "# We must add an intercept as the standard model doesn't automatically fit one\n",
    "X_train = sm.add_constant(X_train)\n",
    "X_train\n",
    "\n",
    "model1 = sm.OLS(y_train, X_train).fit() #ordinary least square\n",
    "print(model1.summary())\n",
    "\n",
    "VIF(data_train, cols5)"
   ]
  },
  {
   "cell_type": "code",
   "execution_count": 8,
   "id": "58dd4299-7b2f-49ee-a5b7-6a4c592b3ecf",
   "metadata": {},
   "outputs": [
    {
     "name": "stdout",
     "output_type": "stream",
     "text": [
      "                            OLS Regression Results                            \n",
      "==============================================================================\n",
      "Dep. Variable:             CivicSales   R-squared:                       0.428\n",
      "Model:                            OLS   Adj. R-squared:                  0.394\n",
      "Method:                 Least Squares   F-statistic:                     12.55\n",
      "Date:                Thu, 25 Sep 2025   Prob (F-statistic):           1.13e-07\n",
      "Time:                        20:42:38   Log-Likelihood:                -687.84\n",
      "No. Observations:                  72   AIC:                             1386.\n",
      "Df Residuals:                      67   BIC:                             1397.\n",
      "Df Model:                           4                                         \n",
      "Covariance Type:            nonrobust                                         \n",
      "=================================================================================\n",
      "                    coef    std err          t      P>|t|      [0.025      0.975]\n",
      "---------------------------------------------------------------------------------\n",
      "const          2.565e+04   2.22e+04      1.155      0.252   -1.87e+04       7e+04\n",
      "CivicQueries    364.2029     62.365      5.840      0.000     239.721     488.685\n",
      "CPIEnergy        77.8940     39.833      1.956      0.055      -1.612     157.400\n",
      "CPIAll         -525.6429    178.932     -2.938      0.005    -882.792    -168.493\n",
      "MilesTraveled     0.3286      0.198      1.663      0.101      -0.066       0.723\n",
      "==============================================================================\n",
      "Omnibus:                        2.355   Durbin-Watson:                   1.615\n",
      "Prob(Omnibus):                  0.308   Jarque-Bera (JB):                1.623\n",
      "Skew:                           0.142   Prob(JB):                        0.444\n",
      "Kurtosis:                       2.321   Cond. No.                     1.41e+07\n",
      "==============================================================================\n",
      "\n",
      "Notes:\n",
      "[1] Standard Errors assume that the covariance matrix of the errors is correctly specified.\n",
      "[2] The condition number is large, 1.41e+07. This might indicate that there are\n",
      "strong multicollinearity or other numerical problems.\n"
     ]
    },
    {
     "data": {
      "text/plain": [
       "CivicQueries      1.683027\n",
       "CPIEnergy         2.962402\n",
       "CPIAll            9.720030\n",
       "MilesTraveled    11.995681\n",
       "dtype: float64"
      ]
     },
     "execution_count": 8,
     "metadata": {},
     "output_type": "execute_result"
    }
   ],
   "source": [
    "# Remove the Unemployment feature because of the highest VIF (24.6)\n",
    "# And keep everything the same\n",
    "\n",
    "cols2 = ['CivicQueries','CPIEnergy','CPIAll','MilesTraveled']\n",
    "X_train = data_train[cols2]\n",
    "\n",
    "# We must add an intercept as the standard model doesn't automatically fit one\n",
    "X_train = sm.add_constant(X_train)\n",
    "X_train\n",
    "\n",
    "model2 = sm.OLS(y_train, X_train).fit() #ordinary least square\n",
    "print(model2.summary())\n",
    "\n",
    "VIF(data_train, cols2)"
   ]
  },
  {
   "cell_type": "code",
   "execution_count": 9,
   "id": "a5049175-9fd0-4e68-aca8-7b36f105a6cd",
   "metadata": {},
   "outputs": [
    {
     "name": "stdout",
     "output_type": "stream",
     "text": [
      "                            OLS Regression Results                            \n",
      "==============================================================================\n",
      "Dep. Variable:             CivicSales   R-squared:                       0.405\n",
      "Model:                            OLS   Adj. R-squared:                  0.378\n",
      "Method:                 Least Squares   F-statistic:                     15.40\n",
      "Date:                Thu, 25 Sep 2025   Prob (F-statistic):           9.51e-08\n",
      "Time:                        20:42:38   Log-Likelihood:                -689.29\n",
      "No. Observations:                  72   AIC:                             1387.\n",
      "Df Residuals:                      68   BIC:                             1396.\n",
      "Df Model:                           3                                         \n",
      "Covariance Type:            nonrobust                                         \n",
      "================================================================================\n",
      "                   coef    std err          t      P>|t|      [0.025      0.975]\n",
      "--------------------------------------------------------------------------------\n",
      "const         5.338e+04   1.49e+04      3.589      0.001    2.37e+04    8.31e+04\n",
      "CivicQueries   390.0680     61.176      6.376      0.000     267.994     512.142\n",
      "CPIEnergy       28.1107     26.625      1.056      0.295     -25.018      81.240\n",
      "CPIAll        -248.9314     66.757     -3.729      0.000    -382.143    -115.720\n",
      "==============================================================================\n",
      "Omnibus:                        2.087   Durbin-Watson:                   1.652\n",
      "Prob(Omnibus):                  0.352   Jarque-Bera (JB):                1.566\n",
      "Skew:                           0.166   Prob(JB):                        0.457\n",
      "Kurtosis:                       2.358   Cond. No.                     1.17e+04\n",
      "==============================================================================\n",
      "\n",
      "Notes:\n",
      "[1] Standard Errors assume that the covariance matrix of the errors is correctly specified.\n",
      "[2] The condition number is large, 1.17e+04. This might indicate that there are\n",
      "strong multicollinearity or other numerical problems.\n"
     ]
    },
    {
     "data": {
      "text/plain": [
       "CivicQueries    1.578403\n",
       "CPIEnergy       1.290031\n",
       "CPIAll          1.318700\n",
       "dtype: float64"
      ]
     },
     "execution_count": 9,
     "metadata": {},
     "output_type": "execute_result"
    }
   ],
   "source": [
    "# Remove the MilesTraveled feature because of the highest VIF (12.00)\n",
    "# And keep everything the same\n",
    "\n",
    "cols3 = ['CivicQueries', 'CPIEnergy', 'CPIAll']\n",
    "X_train = data_train[cols3]\n",
    "\n",
    "# We must add an intercept as the standard model doesn't automatically fit one\n",
    "X_train = sm.add_constant(X_train)\n",
    "X_train\n",
    "\n",
    "model3 = sm.OLS(y_train, X_train).fit() #ordinary least square\n",
    "print(model3.summary())\n",
    "VIF(data_train, cols3)"
   ]
  },
  {
   "cell_type": "code",
   "execution_count": 10,
   "id": "bca73252-f52e-47c2-851e-ab36b44daa96",
   "metadata": {},
   "outputs": [
    {
     "name": "stdout",
     "output_type": "stream",
     "text": [
      "                            OLS Regression Results                            \n",
      "==============================================================================\n",
      "Dep. Variable:             CivicSales   R-squared:                       0.395\n",
      "Model:                            OLS   Adj. R-squared:                  0.377\n",
      "Method:                 Least Squares   F-statistic:                     22.51\n",
      "Date:                Thu, 25 Sep 2025   Prob (F-statistic):           2.98e-08\n",
      "Time:                        20:42:38   Log-Likelihood:                -689.88\n",
      "No. Observations:                  72   AIC:                             1386.\n",
      "Df Residuals:                      69   BIC:                             1393.\n",
      "Df Model:                           2                                         \n",
      "Covariance Type:            nonrobust                                         \n",
      "================================================================================\n",
      "                   coef    std err          t      P>|t|      [0.025      0.975]\n",
      "--------------------------------------------------------------------------------\n",
      "const         5.713e+04   1.45e+04      3.953      0.000    2.83e+04     8.6e+04\n",
      "CivicQueries   359.5442     53.958      6.663      0.000     251.901     467.187\n",
      "CPIAll        -230.2333     64.419     -3.574      0.001    -358.745    -101.722\n",
      "==============================================================================\n",
      "Omnibus:                        2.257   Durbin-Watson:                   1.622\n",
      "Prob(Omnibus):                  0.323   Jarque-Bera (JB):                1.780\n",
      "Skew:                           0.224   Prob(JB):                        0.411\n",
      "Kurtosis:                       2.374   Cond. No.                     8.77e+03\n",
      "==============================================================================\n",
      "\n",
      "Notes:\n",
      "[1] Standard Errors assume that the covariance matrix of the errors is correctly specified.\n",
      "[2] The condition number is large, 8.77e+03. This might indicate that there are\n",
      "strong multicollinearity or other numerical problems.\n"
     ]
    },
    {
     "data": {
      "text/plain": [
       "CivicQueries    1.225893\n",
       "CPIAll          1.225893\n",
       "dtype: float64"
      ]
     },
     "execution_count": 10,
     "metadata": {},
     "output_type": "execute_result"
    }
   ],
   "source": [
    "# Remove the CPIEnergy feature because of the high p-value (0.295)\n",
    "# And keep everything the same\n",
    "\n",
    "cols4 = ['CivicQueries', 'CPIAll']\n",
    "X_train = data_train[cols4]\n",
    "\n",
    "# We must add an intercept as the standard model doesn't automatically fit one\n",
    "X_train = sm.add_constant(X_train)\n",
    "X_train\n",
    "\n",
    "model4 = sm.OLS(y_train, X_train).fit() #ordinary least square\n",
    "print(model4.summary())\n",
    "VIF(data_train, cols4)"
   ]
  },
  {
   "cell_type": "code",
   "execution_count": 11,
   "id": "aac20f92-89b3-4437-82ae-342bb3dca61b",
   "metadata": {},
   "outputs": [
    {
     "name": "stdout",
     "output_type": "stream",
     "text": [
      "\n",
      "Train RMSE: 3507.71\n",
      "Train MAE: 2839.92\n",
      "Train R²: 0.3949\n"
     ]
    }
   ],
   "source": [
    "# Train predictions\n",
    "y_train_pred = model4.predict()\n",
    "\n",
    "# Metrics\n",
    "rmse_train = np.sqrt(mean_squared_error(data_train['CivicSales'], y_train_pred))\n",
    "mae_train = mean_absolute_error(data_train['CivicSales'], y_train_pred)\n",
    "r2_train = r2_score(data_train['CivicSales'], y_train_pred)\n",
    "\n",
    "print(f\"\\nTrain RMSE: {rmse_train:.2f}\")\n",
    "print(f\"Train MAE: {mae_train:.2f}\")\n",
    "print(f\"Train R²: {r2_train:.4f}\")"
   ]
  },
  {
   "cell_type": "markdown",
   "id": "78c324b8-6543-4b9a-9167-e408110c0ef2",
   "metadata": {},
   "source": [
    "Comment:\n",
    "\n",
    "- R² = 0.395: Explains ~39.5% of the variance in monthly Civic sales.\n",
    "\n",
    "- RMSE = 3,508 cars: Average prediction error is about 3,500 cars per month.\n",
    "\n",
    "- MAE = 2,840 cars: Typical prediction is within ~2,800 cars of actual sales.\n",
    "\n",
    "The full five-variable model had a slightly higher R² (0.429), but it suffered from severe multicollinearity and included non-significant predictors. This final model achieves nearly equivalent explanatory power (Adj. R-squared: 3.77 vs 3.95) with only two robust predictors, making it more reliable and interpretable."
   ]
  },
  {
   "cell_type": "markdown",
   "id": "fbde3f23-4c6d-4ad9-a663-e92bd72a485d",
   "metadata": {},
   "source": [
    "\\newpage"
   ]
  },
  {
   "cell_type": "code",
   "execution_count": 12,
   "id": "b39ab0b9-9a08-4576-9b11-53bcaf407bb7",
   "metadata": {},
   "outputs": [
    {
     "name": "stdout",
     "output_type": "stream",
     "text": [
      "                            OLS Regression Results                            \n",
      "==============================================================================\n",
      "Dep. Variable:             CivicSales   R-squared:                       0.765\n",
      "Model:                            OLS   Adj. R-squared:                  0.697\n",
      "Method:                 Least Squares   F-statistic:                     11.19\n",
      "Date:                Thu, 25 Sep 2025   Prob (F-statistic):           5.05e-12\n",
      "Time:                        20:42:38   Log-Likelihood:                -655.83\n",
      "No. Observations:                  72   AIC:                             1346.\n",
      "Df Residuals:                      55   BIC:                             1384.\n",
      "Df Model:                          16                                         \n",
      "Covariance Type:            nonrobust                                         \n",
      "===============================================================================================\n",
      "                                  coef    std err          t      P>|t|      [0.025      0.975]\n",
      "-----------------------------------------------------------------------------------------------\n",
      "Intercept                    2.597e+04   5.38e+04      0.482      0.631   -8.19e+04    1.34e+05\n",
      "C(MonthFactor)[T.August]     2810.6266   1501.365      1.872      0.067    -198.177    5819.430\n",
      "C(MonthFactor)[T.December]   2023.6110   1729.147      1.170      0.247   -1441.678    5488.900\n",
      "C(MonthFactor)[T.February]  -4350.5616   1509.515     -2.882      0.006   -7375.697   -1325.426\n",
      "C(MonthFactor)[T.January]   -5543.3141   1508.810     -3.674      0.001   -8567.038   -2519.591\n",
      "C(MonthFactor)[T.July]        796.0087   1510.946      0.527      0.600   -2231.995    3824.012\n",
      "C(MonthFactor)[T.June]        782.3073   1535.117      0.510      0.612   -2294.135    3858.750\n",
      "C(MonthFactor)[T.March]      1043.1405   1521.718      0.686      0.496   -2006.451    4092.732\n",
      "C(MonthFactor)[T.May]        4311.4869   1503.319      2.868      0.006    1298.768    7324.205\n",
      "C(MonthFactor)[T.November]  -1676.6088   1606.548     -1.044      0.301   -4896.202    1542.985\n",
      "C(MonthFactor)[T.October]   -2192.4334   1513.577     -1.449      0.153   -5225.709     840.842\n",
      "C(MonthFactor)[T.September] -1153.0328   1517.026     -0.760      0.450   -4193.221    1887.155\n",
      "Unemployment                  467.6756   1741.508      0.269      0.789   -3022.385    3957.737\n",
      "CivicQueries                  257.9525     72.508      3.558      0.001     112.642     403.263\n",
      "CPIEnergy                      27.4736     38.325      0.717      0.476     -49.331     104.278\n",
      "CPIAll                       -363.9977    207.430     -1.755      0.085    -779.697      51.702\n",
      "MilesTraveled                   0.2420      0.164      1.472      0.147      -0.087       0.571\n",
      "==============================================================================\n",
      "Omnibus:                        5.209   Durbin-Watson:                   1.308\n",
      "Prob(Omnibus):                  0.074   Jarque-Bera (JB):                4.456\n",
      "Skew:                           0.474   Prob(JB):                        0.108\n",
      "Kurtosis:                       3.765   Cond. No.                     4.83e+07\n",
      "==============================================================================\n",
      "\n",
      "Notes:\n",
      "[1] Standard Errors assume that the covariance matrix of the errors is correctly specified.\n",
      "[2] The condition number is large, 4.83e+07. This might indicate that there are\n",
      "strong multicollinearity or other numerical problems.\n"
     ]
    }
   ],
   "source": [
    "formula_b = \"CivicSales ~ Unemployment + CivicQueries + CPIEnergy + CPIAll + MilesTraveled + C(MonthFactor)\"\n",
    "model_b = smf.ols(formula=formula_b, data=data_train).fit()\n",
    "print(model_b.summary())"
   ]
  },
  {
   "cell_type": "code",
   "execution_count": 13,
   "id": "efaed06f-cdf3-412c-9128-bafa14dc17cb",
   "metadata": {},
   "outputs": [
    {
     "name": "stdout",
     "output_type": "stream",
     "text": [
      "\n",
      "Train RMSE: 2185.89\n",
      "Train MAE: 1667.35\n",
      "Train R²: 0.7650\n",
      "OSR² 0.8294\n"
     ]
    }
   ],
   "source": [
    "y_train_pred = model_b.predict(data_train)\n",
    "\n",
    "rmse_train_b = np.sqrt(mean_squared_error(data_train['CivicSales'],y_train_pred))\n",
    "mae_train_b = mean_absolute_error(data_train['CivicSales'], y_train_pred)\n",
    "OSR2B = OSR2(model_b, data_train, data_test, 'CivicSales')\n",
    "\n",
    "print(f\"\\nTrain RMSE: {rmse_train_b:.2f}\")\n",
    "print(f\"Train MAE: {mae_train_b:.2f}\")\n",
    "print(f\"Train R²: {model_b.rsquared:.4f}\")\n",
    "print(f\"OSR² {OSR2B:.4f}\")"
   ]
  },
  {
   "cell_type": "markdown",
   "id": "82b2bc92-2688-428b-bc58-6284c24a06ea",
   "metadata": {},
   "source": [
    "/newpage"
   ]
  },
  {
   "cell_type": "code",
   "execution_count": 14,
   "id": "296ef569-8d9c-4d3e-852b-b9292fca6090",
   "metadata": {},
   "outputs": [],
   "source": [
    "# only Month 1, 2, 5 had p-value < 0.05\n",
    "# selected month 1,2,4,5 for the data set\n",
    "data_c = data[data['MonthNumeric'].isin([1, 2, 5, 4])]\n",
    "data_train_c = data_c[data_c['Year'] <= 2019]\n",
    "data_test_c = data_c[data_c['Year'] >= 2020]"
   ]
  },
  {
   "cell_type": "code",
   "execution_count": 15,
   "id": "3a8e46de-eb5b-4ecf-a8fa-8f8b2fe74cf3",
   "metadata": {},
   "outputs": [
    {
     "name": "stdout",
     "output_type": "stream",
     "text": [
      "                            OLS Regression Results                            \n",
      "==============================================================================\n",
      "Dep. Variable:             CivicSales   R-squared:                       0.910\n",
      "Model:                            OLS   Adj. R-squared:                  0.885\n",
      "Method:                 Least Squares   F-statistic:                     36.42\n",
      "Date:                Thu, 25 Sep 2025   Prob (F-statistic):           8.39e-09\n",
      "Time:                        20:42:38   Log-Likelihood:                -210.25\n",
      "No. Observations:                  24   AIC:                             432.5\n",
      "Df Residuals:                      18   BIC:                             439.6\n",
      "Df Model:                           5                                         \n",
      "Covariance Type:            nonrobust                                         \n",
      "==============================================================================================\n",
      "                                 coef    std err          t      P>|t|      [0.025      0.975]\n",
      "----------------------------------------------------------------------------------------------\n",
      "Intercept                   5.033e+04   1.31e+04      3.838      0.001    2.28e+04    7.79e+04\n",
      "C(MonthFactor)[T.February] -4925.8839   1038.315     -4.744      0.000   -7107.303   -2744.465\n",
      "C(MonthFactor)[T.January]  -5901.5156   1071.576     -5.507      0.000   -8152.813   -3650.218\n",
      "C(MonthFactor)[T.May]       3748.5563   1035.102      3.621      0.002    1573.888    5923.224\n",
      "CivicQueries                 279.0041     57.634      4.841      0.000     157.919     400.089\n",
      "CPIAll                      -174.0287     61.200     -2.844      0.011    -302.605     -45.452\n",
      "==============================================================================\n",
      "Omnibus:                        4.514   Durbin-Watson:                   2.317\n",
      "Prob(Omnibus):                  0.105   Jarque-Bera (JB):                2.608\n",
      "Skew:                           0.669   Prob(JB):                        0.271\n",
      "Kurtosis:                       3.906   Cond. No.                     9.20e+03\n",
      "==============================================================================\n",
      "\n",
      "Notes:\n",
      "[1] Standard Errors assume that the covariance matrix of the errors is correctly specified.\n",
      "[2] The condition number is large, 9.2e+03. This might indicate that there are\n",
      "strong multicollinearity or other numerical problems.\n"
     ]
    }
   ],
   "source": [
    "formula_c = \"CivicSales ~ CivicQueries + CPIAll  + C(MonthFactor)\"\n",
    "model_c = smf.ols(formula=formula_c, data=data_train_c).fit()\n",
    "print(model_c.summary())"
   ]
  },
  {
   "cell_type": "code",
   "execution_count": 16,
   "id": "a5c5526c-71ed-4ec7-8805-a3dacbce379e",
   "metadata": {},
   "outputs": [
    {
     "name": "stdout",
     "output_type": "stream",
     "text": [
      "\n",
      "Train RMSE: 1543.13\n",
      "Train MAE: 1097.00\n",
      "Train R²: 0.9100\n",
      "OSR² 0.6434\n"
     ]
    }
   ],
   "source": [
    "y_train_c = model_c.predict(data_train_c)\n",
    "\n",
    "rmse_train_c = np.sqrt(mean_squared_error(data_train_c['CivicSales'],y_train_c))\n",
    "mae_train_c = mean_absolute_error(data_train_c['CivicSales'], y_train_c)\n",
    "OSR2C = OSR2(model_c, data_train_c, data_test_c, 'CivicSales')\n",
    "\n",
    "print(f\"\\nTrain RMSE: {rmse_train_c:.2f}\")\n",
    "print(f\"Train MAE: {mae_train_c:.2f}\")\n",
    "print(f\"Train R²: {model_c.rsquared:.4f}\")\n",
    "print(f\"OSR² {OSR2C:.4f}\")"
   ]
  },
  {
   "cell_type": "markdown",
   "id": "7a591ccb-0ca4-4ed5-9a33-51906b624665",
   "metadata": {},
   "source": [
    "- At this point I think this model might overfit. The gap between $R^2$ (0.91) and $OSR^2$ (0.64) is expected: in-sample fit is higher, while out-of-sample performance reflects 2020+ shifts and less data per month. Even so, $OSR^2$ (0.64)4 indicates good generalization on the selected months.\n"
   ]
  },
  {
   "cell_type": "code",
   "execution_count": 17,
   "id": "5c4e4126-0b1b-42de-b3b2-cfb61df7fe78",
   "metadata": {},
   "outputs": [
    {
     "data": {
      "text/html": [
       "<div>\n",
       "<style scoped>\n",
       "    .dataframe tbody tr th:only-of-type {\n",
       "        vertical-align: middle;\n",
       "    }\n",
       "\n",
       "    .dataframe tbody tr th {\n",
       "        vertical-align: top;\n",
       "    }\n",
       "\n",
       "    .dataframe thead th {\n",
       "        text-align: right;\n",
       "    }\n",
       "</style>\n",
       "<table border=\"1\" class=\"dataframe\">\n",
       "  <thead>\n",
       "    <tr style=\"text-align: right;\">\n",
       "      <th></th>\n",
       "      <th>MonthNumeric</th>\n",
       "      <th>MonthFactor</th>\n",
       "      <th>Year</th>\n",
       "      <th>CivicSales</th>\n",
       "      <th>Unemployment</th>\n",
       "      <th>CivicQueries</th>\n",
       "      <th>CPIAll</th>\n",
       "      <th>CPIEnergy</th>\n",
       "      <th>MilesTraveled</th>\n",
       "    </tr>\n",
       "  </thead>\n",
       "  <tbody>\n",
       "    <tr>\n",
       "      <th>0</th>\n",
       "      <td>1</td>\n",
       "      <td>January</td>\n",
       "      <td>2014</td>\n",
       "      <td>21824</td>\n",
       "      <td>6.6</td>\n",
       "      <td>66</td>\n",
       "      <td>235.288</td>\n",
       "      <td>250.340</td>\n",
       "      <td>246531</td>\n",
       "    </tr>\n",
       "    <tr>\n",
       "      <th>1</th>\n",
       "      <td>2</td>\n",
       "      <td>February</td>\n",
       "      <td>2014</td>\n",
       "      <td>21575</td>\n",
       "      <td>6.7</td>\n",
       "      <td>69</td>\n",
       "      <td>235.547</td>\n",
       "      <td>249.925</td>\n",
       "      <td>249499</td>\n",
       "    </tr>\n",
       "    <tr>\n",
       "      <th>3</th>\n",
       "      <td>4</td>\n",
       "      <td>April</td>\n",
       "      <td>2014</td>\n",
       "      <td>27611</td>\n",
       "      <td>6.2</td>\n",
       "      <td>69</td>\n",
       "      <td>236.468</td>\n",
       "      <td>249.864</td>\n",
       "      <td>251959</td>\n",
       "    </tr>\n",
       "    <tr>\n",
       "      <th>4</th>\n",
       "      <td>5</td>\n",
       "      <td>May</td>\n",
       "      <td>2014</td>\n",
       "      <td>36089</td>\n",
       "      <td>6.3</td>\n",
       "      <td>69</td>\n",
       "      <td>236.918</td>\n",
       "      <td>249.213</td>\n",
       "      <td>252289</td>\n",
       "    </tr>\n",
       "    <tr>\n",
       "      <th>12</th>\n",
       "      <td>1</td>\n",
       "      <td>January</td>\n",
       "      <td>2015</td>\n",
       "      <td>18699</td>\n",
       "      <td>5.7</td>\n",
       "      <td>58</td>\n",
       "      <td>234.747</td>\n",
       "      <td>199.926</td>\n",
       "      <td>254967</td>\n",
       "    </tr>\n",
       "  </tbody>\n",
       "</table>\n",
       "</div>"
      ],
      "text/plain": [
       "    MonthNumeric MonthFactor  Year  CivicSales  Unemployment  CivicQueries  \\\n",
       "0              1     January  2014       21824           6.6            66   \n",
       "1              2    February  2014       21575           6.7            69   \n",
       "3              4       April  2014       27611           6.2            69   \n",
       "4              5         May  2014       36089           6.3            69   \n",
       "12             1     January  2015       18699           5.7            58   \n",
       "\n",
       "     CPIAll  CPIEnergy  MilesTraveled  \n",
       "0   235.288    250.340         246531  \n",
       "1   235.547    249.925         249499  \n",
       "3   236.468    249.864         251959  \n",
       "4   236.918    249.213         252289  \n",
       "12  234.747    199.926         254967  "
      ]
     },
     "execution_count": 17,
     "metadata": {},
     "output_type": "execute_result"
    }
   ],
   "source": [
    "#Traning Set for R^2\n",
    "data_train_c.head()"
   ]
  },
  {
   "cell_type": "markdown",
   "id": "8ce91018-0db5-41ba-b120-c12616a81947",
   "metadata": {},
   "source": [
    "### Add new feature"
   ]
  },
  {
   "cell_type": "markdown",
   "id": "343d1675-aff2-4a08-b31d-824baf78975f",
   "metadata": {},
   "source": [
    "- I'm adding new feature name AutoLoanRate for the model using the the data from FRED page\n",
    "- I think this will have significant impact on this model because the AutoLoanRate will affect the impact of customer who want to buy car."
   ]
  },
  {
   "cell_type": "code",
   "execution_count": 18,
   "id": "21e11f91-6dc3-42a3-8c1b-01b28997c5f9",
   "metadata": {},
   "outputs": [],
   "source": [
    "# Load and prepare auto loan data\n",
    "auto_loan_data = pd.read_csv('AutoLoanRate.csv')\n",
    "\n",
    "# Convert observation_date to datetime and extract year and month\n",
    "auto_loan_data['observation_date'] = pd.to_datetime(auto_loan_data['observation_date'])\n",
    "auto_loan_data['Year'] = auto_loan_data['observation_date'].dt.year\n",
    "auto_loan_data['MonthNumeric'] = auto_loan_data['observation_date'].dt.month  # Use MonthNumeric to match your main data\n",
    "\n",
    "# Handle missing values - forward fill then backward fill\n",
    "auto_loan_data['TERMCBAUTO48NS'] = auto_loan_data['TERMCBAUTO48NS'].replace('', np.nan)\n",
    "auto_loan_data['AutoLoanRate'] = auto_loan_data['TERMCBAUTO48NS'].astype(float)\n",
    "auto_loan_data['AutoLoanRate'] = auto_loan_data['AutoLoanRate'].ffill().bfill()\n",
    "\n",
    "# Keep only necessary columns and drop duplicates\n",
    "auto_loan_clean = auto_loan_data[['Year', 'MonthNumeric', 'AutoLoanRate']].drop_duplicates()\n",
    "\n",
    "# Merge \n",
    "data_d = data_c.merge(auto_loan_clean, on=['Year', 'MonthNumeric'], how='left')"
   ]
  },
  {
   "cell_type": "code",
   "execution_count": 19,
   "id": "2f61ce0c-edc1-40fc-9b80-7c7717016131",
   "metadata": {},
   "outputs": [],
   "source": [
    "data_train_d = data_d[data_d['Year'] <= 2019]\n",
    "data_test_d = data_d[data_d['Year'] >= 2020]"
   ]
  },
  {
   "cell_type": "code",
   "execution_count": 20,
   "id": "c3452811-0241-4c3c-86c3-3f1030dcbc9d",
   "metadata": {},
   "outputs": [
    {
     "name": "stdout",
     "output_type": "stream",
     "text": [
      "                            OLS Regression Results                            \n",
      "==============================================================================\n",
      "Dep. Variable:             CivicSales   R-squared:                       0.913\n",
      "Model:                            OLS   Adj. R-squared:                  0.883\n",
      "Method:                 Least Squares   F-statistic:                     29.86\n",
      "Date:                Thu, 25 Sep 2025   Prob (F-statistic):           3.97e-08\n",
      "Time:                        20:42:38   Log-Likelihood:                -209.80\n",
      "No. Observations:                  24   AIC:                             433.6\n",
      "Df Residuals:                      17   BIC:                             441.9\n",
      "Df Model:                           6                                         \n",
      "Covariance Type:            nonrobust                                         \n",
      "==============================================================================================\n",
      "                                 coef    std err          t      P>|t|      [0.025      0.975]\n",
      "----------------------------------------------------------------------------------------------\n",
      "Intercept                   3.126e+04   2.72e+04      1.151      0.266    -2.6e+04    8.85e+04\n",
      "C(MonthFactor)[T.February] -4891.7080   1049.494     -4.661      0.000   -7105.948   -2677.468\n",
      "C(MonthFactor)[T.January]  -6133.4737   1119.961     -5.477      0.000   -8496.386   -3770.562\n",
      "C(MonthFactor)[T.May]       3889.7758   1060.019      3.670      0.002    1653.331    6126.221\n",
      "CivicQueries                 245.0656     71.882      3.409      0.003      93.408     396.723\n",
      "CPIAll                       -48.5256    167.772     -0.289      0.776    -402.494     305.442\n",
      "AutoLoanRate               -1912.1489   2376.366     -0.805      0.432   -6925.843    3101.545\n",
      "==============================================================================\n",
      "Omnibus:                        5.208   Durbin-Watson:                   2.441\n",
      "Prob(Omnibus):                  0.074   Jarque-Bera (JB):                3.236\n",
      "Skew:                           0.655   Prob(JB):                        0.198\n",
      "Kurtosis:                       4.232   Cond. No.                     1.89e+04\n",
      "==============================================================================\n",
      "\n",
      "Notes:\n",
      "[1] Standard Errors assume that the covariance matrix of the errors is correctly specified.\n",
      "[2] The condition number is large, 1.89e+04. This might indicate that there are\n",
      "strong multicollinearity or other numerical problems.\n"
     ]
    }
   ],
   "source": [
    "formula_d = \"CivicSales ~ CivicQueries + CPIAll + AutoLoanRate + C(MonthFactor)\"\n",
    "model_d = smf.ols(formula=formula_d, data=data_train_d).fit()\n",
    "print(model_d.summary())"
   ]
  },
  {
   "cell_type": "code",
   "execution_count": 21,
   "id": "77980caf-4ef0-4eb2-82cd-70319c876646",
   "metadata": {},
   "outputs": [
    {
     "name": "stdout",
     "output_type": "stream",
     "text": [
      "\n",
      "Train RMSE: 1514.56\n",
      "Train MAE: 1056.41\n",
      "Train R²: 0.9133\n",
      "OSR² 0.4809\n"
     ]
    }
   ],
   "source": [
    "y_train_d = model_d.predict(data_train_d)\n",
    "\n",
    "rmse_train_d = np.sqrt(mean_squared_error(data_train_d['CivicSales'],y_train_d))\n",
    "mae_train_d = mean_absolute_error(data_train_d['CivicSales'], y_train_d)\n",
    "OSR2D = OSR2(model_d, data_train_d, data_test_d, 'CivicSales')\n",
    "\n",
    "print(f\"\\nTrain RMSE: {rmse_train_d:.2f}\")\n",
    "print(f\"Train MAE: {mae_train_d:.2f}\")\n",
    "print(f\"Train R²: {model_d.rsquared:.4f}\")\n",
    "print(f\"OSR² {OSR2D:.4f}\")"
   ]
  },
  {
   "cell_type": "markdown",
   "id": "51cb0279-e405-4faa-aece-6fb221f87611",
   "metadata": {},
   "source": [
    "### Conclusion:\n",
    "The new variable have impact on the model where the $R^2$ to 0.9133 but the $OSR^2$ is drop rapiddly. This feature also make the CPIAll feature p-value become higher (0.776). Base on this, I think this feature just make this model more overfit."
   ]
  },
  {
   "cell_type": "code",
   "execution_count": null,
   "id": "c3328aa8-9061-484f-9939-8491b3acd435",
   "metadata": {},
   "outputs": [],
   "source": []
  }
 ],
 "metadata": {
  "kernelspec": {
   "display_name": "Python 3 (ipykernel)",
   "language": "python",
   "name": "python3"
  },
  "language_info": {
   "codemirror_mode": {
    "name": "ipython",
    "version": 3
   },
   "file_extension": ".py",
   "mimetype": "text/x-python",
   "name": "python",
   "nbconvert_exporter": "python",
   "pygments_lexer": "ipython3",
   "version": "3.12.8"
  }
 },
 "nbformat": 4,
 "nbformat_minor": 5
}
